{
  "nbformat": 4,
  "nbformat_minor": 0,
  "metadata": {
    "colab": {
      "name": "tadingstratMACD.ipynb",
      "provenance": [],
      "authorship_tag": "ABX9TyPZ+2GciFBFeCh8mw0UZopd",
      "include_colab_link": true
    },
    "kernelspec": {
      "name": "python3",
      "display_name": "Python 3"
    }
  },
  "cells": [
    {
      "cell_type": "markdown",
      "metadata": {
        "id": "view-in-github",
        "colab_type": "text"
      },
      "source": [
        "<a href=\"https://colab.research.google.com/github/eferna71/Back-Testing-Strategy/blob/main/tadingstratMACD.ipynb\" target=\"_parent\"><img src=\"https://colab.research.google.com/assets/colab-badge.svg\" alt=\"Open In Colab\"/></a>"
      ]
    },
    {
      "cell_type": "code",
      "metadata": {
        "id": "-LCErhte8xVr"
      },
      "source": [
        "#description: MACD crossover strat to decide when to buy and sell a stock"
      ],
      "execution_count": 1,
      "outputs": []
    },
    {
      "cell_type": "code",
      "metadata": {
        "id": "aBxAkia29FHK"
      },
      "source": [
        "#libraries\n",
        "import pandas as pd\n",
        "import numpy as np\n",
        "import matplotlib.pyplot as plt\n",
        "plt.style.use('fivethirtyeight')"
      ],
      "execution_count": 2,
      "outputs": []
    },
    {
      "cell_type": "code",
      "metadata": {
        "colab": {
          "resources": {
            "http://localhost:8080/nbextensions/google.colab/files.js": {
              "data": "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",
              "ok": true,
              "headers": [
                [
                  "content-type",
                  "application/javascript"
                ]
              ],
              "status": 200,
              "status_text": ""
            }
          },
          "base_uri": "https://localhost:8080/",
          "height": 72
        },
        "id": "LJqS_1RQ9b60",
        "outputId": "86cea5fc-5172-4cf1-cd22-cd59fa741d89"
      },
      "source": [
        "#load data\n",
        "from google.colab import files\n",
        "uploaded = files.upload()"
      ],
      "execution_count": 4,
      "outputs": [
        {
          "output_type": "display_data",
          "data": {
            "text/html": [
              "\n",
              "     <input type=\"file\" id=\"files-ac69178c-1e0a-4fa8-86d8-e1f33f823195\" name=\"files[]\" multiple disabled\n",
              "        style=\"border:none\" />\n",
              "     <output id=\"result-ac69178c-1e0a-4fa8-86d8-e1f33f823195\">\n",
              "      Upload widget is only available when the cell has been executed in the\n",
              "      current browser session. Please rerun this cell to enable.\n",
              "      </output>\n",
              "      <script src=\"/nbextensions/google.colab/files.js\"></script> "
            ],
            "text/plain": [
              "<IPython.core.display.HTML object>"
            ]
          },
          "metadata": {
            "tags": []
          }
        },
        {
          "output_type": "stream",
          "text": [
            "Saving AC.TO.csv to AC.TO.csv\n"
          ],
          "name": "stdout"
        }
      ]
    },
    {
      "cell_type": "code",
      "metadata": {
        "colab": {
          "base_uri": "https://localhost:8080/",
          "height": 419
        },
        "id": "r_vn3b1s9j9I",
        "outputId": "684099b7-9e39-4001-cf09-f37f5b53fea7"
      },
      "source": [
        "#create dataframe\n",
        "df = pd.read_csv('AC.TO.csv')\n",
        "df = df.set_index(pd.DatetimeIndex(df['Date'].values))\n",
        "#show data\n",
        "df"
      ],
      "execution_count": 6,
      "outputs": [
        {
          "output_type": "execute_result",
          "data": {
            "text/html": [
              "<div>\n",
              "<style scoped>\n",
              "    .dataframe tbody tr th:only-of-type {\n",
              "        vertical-align: middle;\n",
              "    }\n",
              "\n",
              "    .dataframe tbody tr th {\n",
              "        vertical-align: top;\n",
              "    }\n",
              "\n",
              "    .dataframe thead th {\n",
              "        text-align: right;\n",
              "    }\n",
              "</style>\n",
              "<table border=\"1\" class=\"dataframe\">\n",
              "  <thead>\n",
              "    <tr style=\"text-align: right;\">\n",
              "      <th></th>\n",
              "      <th>Date</th>\n",
              "      <th>Open</th>\n",
              "      <th>High</th>\n",
              "      <th>Low</th>\n",
              "      <th>Close</th>\n",
              "      <th>Adj Close</th>\n",
              "      <th>Volume</th>\n",
              "    </tr>\n",
              "  </thead>\n",
              "  <tbody>\n",
              "    <tr>\n",
              "      <th>2019-11-18</th>\n",
              "      <td>2019-11-18</td>\n",
              "      <td>49.290001</td>\n",
              "      <td>49.720001</td>\n",
              "      <td>48.950001</td>\n",
              "      <td>49.560001</td>\n",
              "      <td>49.560001</td>\n",
              "      <td>986147.0</td>\n",
              "    </tr>\n",
              "    <tr>\n",
              "      <th>2019-11-19</th>\n",
              "      <td>2019-11-19</td>\n",
              "      <td>49.560001</td>\n",
              "      <td>50.119999</td>\n",
              "      <td>49.299999</td>\n",
              "      <td>49.880001</td>\n",
              "      <td>49.880001</td>\n",
              "      <td>1059311.0</td>\n",
              "    </tr>\n",
              "    <tr>\n",
              "      <th>2019-11-20</th>\n",
              "      <td>2019-11-20</td>\n",
              "      <td>49.700001</td>\n",
              "      <td>50.119999</td>\n",
              "      <td>49.360001</td>\n",
              "      <td>49.750000</td>\n",
              "      <td>49.750000</td>\n",
              "      <td>781474.0</td>\n",
              "    </tr>\n",
              "    <tr>\n",
              "      <th>2019-11-21</th>\n",
              "      <td>2019-11-21</td>\n",
              "      <td>49.750000</td>\n",
              "      <td>50.040001</td>\n",
              "      <td>49.439999</td>\n",
              "      <td>49.450001</td>\n",
              "      <td>49.450001</td>\n",
              "      <td>697568.0</td>\n",
              "    </tr>\n",
              "    <tr>\n",
              "      <th>2019-11-22</th>\n",
              "      <td>2019-11-22</td>\n",
              "      <td>49.459999</td>\n",
              "      <td>49.680000</td>\n",
              "      <td>48.959999</td>\n",
              "      <td>49.169998</td>\n",
              "      <td>49.169998</td>\n",
              "      <td>591529.0</td>\n",
              "    </tr>\n",
              "    <tr>\n",
              "      <th>...</th>\n",
              "      <td>...</td>\n",
              "      <td>...</td>\n",
              "      <td>...</td>\n",
              "      <td>...</td>\n",
              "      <td>...</td>\n",
              "      <td>...</td>\n",
              "      <td>...</td>\n",
              "    </tr>\n",
              "    <tr>\n",
              "      <th>2020-11-10</th>\n",
              "      <td>2020-11-10</td>\n",
              "      <td>19.590000</td>\n",
              "      <td>20.500000</td>\n",
              "      <td>18.870001</td>\n",
              "      <td>20.120001</td>\n",
              "      <td>20.120001</td>\n",
              "      <td>9867015.0</td>\n",
              "    </tr>\n",
              "    <tr>\n",
              "      <th>2020-11-11</th>\n",
              "      <td>2020-11-11</td>\n",
              "      <td>19.980000</td>\n",
              "      <td>20.379999</td>\n",
              "      <td>19.110001</td>\n",
              "      <td>19.219999</td>\n",
              "      <td>19.219999</td>\n",
              "      <td>6208847.0</td>\n",
              "    </tr>\n",
              "    <tr>\n",
              "      <th>2020-11-12</th>\n",
              "      <td>2020-11-12</td>\n",
              "      <td>18.900000</td>\n",
              "      <td>19.129999</td>\n",
              "      <td>18.490000</td>\n",
              "      <td>18.570000</td>\n",
              "      <td>18.570000</td>\n",
              "      <td>5061099.0</td>\n",
              "    </tr>\n",
              "    <tr>\n",
              "      <th>2020-11-13</th>\n",
              "      <td>2020-11-13</td>\n",
              "      <td>18.570000</td>\n",
              "      <td>19.490000</td>\n",
              "      <td>18.570000</td>\n",
              "      <td>19.410000</td>\n",
              "      <td>19.410000</td>\n",
              "      <td>4379590.0</td>\n",
              "    </tr>\n",
              "    <tr>\n",
              "      <th>2020-11-16</th>\n",
              "      <td>2020-11-16</td>\n",
              "      <td>20.879999</td>\n",
              "      <td>20.930000</td>\n",
              "      <td>19.799999</td>\n",
              "      <td>20.110001</td>\n",
              "      <td>20.110001</td>\n",
              "      <td>4030696.0</td>\n",
              "    </tr>\n",
              "  </tbody>\n",
              "</table>\n",
              "<p>251 rows × 7 columns</p>\n",
              "</div>"
            ],
            "text/plain": [
              "                  Date       Open       High  ...      Close  Adj Close     Volume\n",
              "2019-11-18  2019-11-18  49.290001  49.720001  ...  49.560001  49.560001   986147.0\n",
              "2019-11-19  2019-11-19  49.560001  50.119999  ...  49.880001  49.880001  1059311.0\n",
              "2019-11-20  2019-11-20  49.700001  50.119999  ...  49.750000  49.750000   781474.0\n",
              "2019-11-21  2019-11-21  49.750000  50.040001  ...  49.450001  49.450001   697568.0\n",
              "2019-11-22  2019-11-22  49.459999  49.680000  ...  49.169998  49.169998   591529.0\n",
              "...                ...        ...        ...  ...        ...        ...        ...\n",
              "2020-11-10  2020-11-10  19.590000  20.500000  ...  20.120001  20.120001  9867015.0\n",
              "2020-11-11  2020-11-11  19.980000  20.379999  ...  19.219999  19.219999  6208847.0\n",
              "2020-11-12  2020-11-12  18.900000  19.129999  ...  18.570000  18.570000  5061099.0\n",
              "2020-11-13  2020-11-13  18.570000  19.490000  ...  19.410000  19.410000  4379590.0\n",
              "2020-11-16  2020-11-16  20.879999  20.930000  ...  20.110001  20.110001  4030696.0\n",
              "\n",
              "[251 rows x 7 columns]"
            ]
          },
          "metadata": {
            "tags": []
          },
          "execution_count": 6
        }
      ]
    },
    {
      "cell_type": "code",
      "metadata": {
        "colab": {
          "base_uri": "https://localhost:8080/",
          "height": 354
        },
        "id": "g9JZW9Kb934H",
        "outputId": "1bd32860-37b7-428a-be0c-2edb8640062d"
      },
      "source": [
        "#visualize\n",
        "plt.figure(figsize=(12.2, 4.5))\n",
        "plt.plot(df['Close'], label= 'Close')\n",
        "plt.title('Close Price History')\n",
        "plt.xlabel('Date')\n",
        "plt.ylabel('Price USD($)')\n",
        "plt.show()\n"
      ],
      "execution_count": 10,
      "outputs": [
        {
          "output_type": "display_data",
          "data": {
            "image/png": "[encoded data removed]",
            "text/plain": [
              "<Figure size 878.4x324 with 1 Axes>"
            ]
          },
          "metadata": {
            "tags": []
          }
        }
      ]
    },
    {
      "cell_type": "code",
      "metadata": {
        "id": "XzlOBQv8-uv6"
      },
      "source": [
        "#Calculate signal line and (EMA)\n",
        "\n",
        "ShortEMA = df.Close.ewm(span=12, adjust=False).mean()\n",
        "LongEMA = df.Close.ewm(span=26, adjust=False).mean()\n",
        "MACD = ShortEMA - LongEMA\n",
        "signal = MACD.ewm(span=9, adjust=False).mean()\n"
      ],
      "execution_count": 12,
      "outputs": []
    },
    {
      "cell_type": "code",
      "metadata": {
        "colab": {
          "base_uri": "https://localhost:8080/",
          "height": 311
        },
        "id": "gKW8jo8p_ruK",
        "outputId": "e3a83a56-0277-441f-af86-486fb95ebf3a"
      },
      "source": [
        "#plot the signal line vs MACD\n",
        "\n",
        "plt.figure(figsize=(12.2, 4.5))\n",
        "plt.plot(df.index, MACD, label = 'AC.TO MACD', color='red')\n",
        "plt.plot(df.index, signal, label = 'Signal Line', color='blue')\n",
        "plt.legend(loc='lower right')\n",
        "plt.show()"
      ],
      "execution_count": 15,
      "outputs": [
        {
          "output_type": "display_data",
          "data": {
            "image/png": "[encoded data removed]",
            "text/plain": [
              "<Figure size 878.4x324 with 1 Axes>"
            ]
          },
          "metadata": {
            "tags": []
          }
        }
      ]
    },
    {
      "cell_type": "code",
      "metadata": {
        "colab": {
          "base_uri": "https://localhost:8080/",
          "height": 419
        },
        "id": "lrllnfgoAdpV",
        "outputId": "fb948e92-550b-4cfe-c8b6-0bc4da9bdfa1"
      },
      "source": [
        "df['MACD'] = MACD\n",
        "df['Signal Line'] = signal\n",
        "\n",
        "df"
      ],
      "execution_count": 16,
      "outputs": [
        {
          "output_type": "execute_result",
          "data": {
            "text/html": [
              "<div>\n",
              "<style scoped>\n",
              "    .dataframe tbody tr th:only-of-type {\n",
              "        vertical-align: middle;\n",
              "    }\n",
              "\n",
              "    .dataframe tbody tr th {\n",
              "        vertical-align: top;\n",
              "    }\n",
              "\n",
              "    .dataframe thead th {\n",
              "        text-align: right;\n",
              "    }\n",
              "</style>\n",
              "<table border=\"1\" class=\"dataframe\">\n",
              "  <thead>\n",
              "    <tr style=\"text-align: right;\">\n",
              "      <th></th>\n",
              "      <th>Date</th>\n",
              "      <th>Open</th>\n",
              "      <th>High</th>\n",
              "      <th>Low</th>\n",
              "      <th>Close</th>\n",
              "      <th>Adj Close</th>\n",
              "      <th>Volume</th>\n",
              "      <th>MACD</th>\n",
              "      <th>Signal Line</th>\n",
              "    </tr>\n",
              "  </thead>\n",
              "  <tbody>\n",
              "    <tr>\n",
              "      <th>2019-11-18</th>\n",
              "      <td>2019-11-18</td>\n",
              "      <td>49.290001</td>\n",
              "      <td>49.720001</td>\n",
              "      <td>48.950001</td>\n",
              "      <td>49.560001</td>\n",
              "      <td>49.560001</td>\n",
              "      <td>986147.0</td>\n",
              "      <td>0.000000</td>\n",
              "      <td>0.000000</td>\n",
              "    </tr>\n",
              "    <tr>\n",
              "      <th>2019-11-19</th>\n",
              "      <td>2019-11-19</td>\n",
              "      <td>49.560001</td>\n",
              "      <td>50.119999</td>\n",
              "      <td>49.299999</td>\n",
              "      <td>49.880001</td>\n",
              "      <td>49.880001</td>\n",
              "      <td>1059311.0</td>\n",
              "      <td>0.025527</td>\n",
              "      <td>0.005105</td>\n",
              "    </tr>\n",
              "    <tr>\n",
              "      <th>2019-11-20</th>\n",
              "      <td>2019-11-20</td>\n",
              "      <td>49.700001</td>\n",
              "      <td>50.119999</td>\n",
              "      <td>49.360001</td>\n",
              "      <td>49.750000</td>\n",
              "      <td>49.750000</td>\n",
              "      <td>781474.0</td>\n",
              "      <td>0.034866</td>\n",
              "      <td>0.011057</td>\n",
              "    </tr>\n",
              "    <tr>\n",
              "      <th>2019-11-21</th>\n",
              "      <td>2019-11-21</td>\n",
              "      <td>49.750000</td>\n",
              "      <td>50.040001</td>\n",
              "      <td>49.439999</td>\n",
              "      <td>49.450001</td>\n",
              "      <td>49.450001</td>\n",
              "      <td>697568.0</td>\n",
              "      <td>0.017853</td>\n",
              "      <td>0.012417</td>\n",
              "    </tr>\n",
              "    <tr>\n",
              "      <th>2019-11-22</th>\n",
              "      <td>2019-11-22</td>\n",
              "      <td>49.459999</td>\n",
              "      <td>49.680000</td>\n",
              "      <td>48.959999</td>\n",
              "      <td>49.169998</td>\n",
              "      <td>49.169998</td>\n",
              "      <td>591529.0</td>\n",
              "      <td>-0.018016</td>\n",
              "      <td>0.006330</td>\n",
              "    </tr>\n",
              "    <tr>\n",
              "      <th>...</th>\n",
              "      <td>...</td>\n",
              "      <td>...</td>\n",
              "      <td>...</td>\n",
              "      <td>...</td>\n",
              "      <td>...</td>\n",
              "      <td>...</td>\n",
              "      <td>...</td>\n",
              "      <td>...</td>\n",
              "      <td>...</td>\n",
              "    </tr>\n",
              "    <tr>\n",
              "      <th>2020-11-10</th>\n",
              "      <td>2020-11-10</td>\n",
              "      <td>19.590000</td>\n",
              "      <td>20.500000</td>\n",
              "      <td>18.870001</td>\n",
              "      <td>20.120001</td>\n",
              "      <td>20.120001</td>\n",
              "      <td>9867015.0</td>\n",
              "      <td>0.472441</td>\n",
              "      <td>-0.055607</td>\n",
              "    </tr>\n",
              "    <tr>\n",
              "      <th>2020-11-11</th>\n",
              "      <td>2020-11-11</td>\n",
              "      <td>19.980000</td>\n",
              "      <td>20.379999</td>\n",
              "      <td>19.110001</td>\n",
              "      <td>19.219999</td>\n",
              "      <td>19.219999</td>\n",
              "      <td>6208847.0</td>\n",
              "      <td>0.622419</td>\n",
              "      <td>0.079998</td>\n",
              "    </tr>\n",
              "    <tr>\n",
              "      <th>2020-11-12</th>\n",
              "      <td>2020-11-12</td>\n",
              "      <td>18.900000</td>\n",
              "      <td>19.129999</td>\n",
              "      <td>18.490000</td>\n",
              "      <td>18.570000</td>\n",
              "      <td>18.570000</td>\n",
              "      <td>5061099.0</td>\n",
              "      <td>0.680978</td>\n",
              "      <td>0.200194</td>\n",
              "    </tr>\n",
              "    <tr>\n",
              "      <th>2020-11-13</th>\n",
              "      <td>2020-11-13</td>\n",
              "      <td>18.570000</td>\n",
              "      <td>19.490000</td>\n",
              "      <td>18.570000</td>\n",
              "      <td>19.410000</td>\n",
              "      <td>19.410000</td>\n",
              "      <td>4379590.0</td>\n",
              "      <td>0.786106</td>\n",
              "      <td>0.317377</td>\n",
              "    </tr>\n",
              "    <tr>\n",
              "      <th>2020-11-16</th>\n",
              "      <td>2020-11-16</td>\n",
              "      <td>20.879999</td>\n",
              "      <td>20.930000</td>\n",
              "      <td>19.799999</td>\n",
              "      <td>20.110001</td>\n",
              "      <td>20.110001</td>\n",
              "      <td>4030696.0</td>\n",
              "      <td>0.915354</td>\n",
              "      <td>0.436972</td>\n",
              "    </tr>\n",
              "  </tbody>\n",
              "</table>\n",
              "<p>251 rows × 9 columns</p>\n",
              "</div>"
            ],
            "text/plain": [
              "                  Date       Open       High  ...     Volume      MACD  Signal Line\n",
              "2019-11-18  2019-11-18  49.290001  49.720001  ...   986147.0  0.000000     0.000000\n",
              "2019-11-19  2019-11-19  49.560001  50.119999  ...  1059311.0  0.025527     0.005105\n",
              "2019-11-20  2019-11-20  49.700001  50.119999  ...   781474.0  0.034866     0.011057\n",
              "2019-11-21  2019-11-21  49.750000  50.040001  ...   697568.0  0.017853     0.012417\n",
              "2019-11-22  2019-11-22  49.459999  49.680000  ...   591529.0 -0.018016     0.006330\n",
              "...                ...        ...        ...  ...        ...       ...          ...\n",
              "2020-11-10  2020-11-10  19.590000  20.500000  ...  9867015.0  0.472441    -0.055607\n",
              "2020-11-11  2020-11-11  19.980000  20.379999  ...  6208847.0  0.622419     0.079998\n",
              "2020-11-12  2020-11-12  18.900000  19.129999  ...  5061099.0  0.680978     0.200194\n",
              "2020-11-13  2020-11-13  18.570000  19.490000  ...  4379590.0  0.786106     0.317377\n",
              "2020-11-16  2020-11-16  20.879999  20.930000  ...  4030696.0  0.915354     0.436972\n",
              "\n",
              "[251 rows x 9 columns]"
            ]
          },
          "metadata": {
            "tags": []
          },
          "execution_count": 16
        }
      ]
    },
    {
      "cell_type": "code",
      "metadata": {
        "id": "aKWniJk3BdGQ"
      },
      "source": [
        "#Create function of when to buy and sell\n",
        "\n",
        "def buy_sell(signal):\n",
        "  Buy = []\n",
        "  Sell = []\n",
        "  flag = -1\n",
        "\n",
        "  for i in range(0, len(signal)):\n",
        "    if signal['MACD'][i] > signal['Signal Line'][i]:\n",
        "      Sell.append(np.nan)\n",
        "      if flag != 1:\n",
        "        Buy.append(signal['Close'][i])\n",
        "        flag = 1\n",
        "      else:\n",
        "        Buy.append(np.nan)\n",
        "    elif signal['MACD'][i] < signal['Signal Line'][i]:\n",
        "      Buy.append(np.nan)\n",
        "      if flag != 0:\n",
        "        Sell.append(signal['Close'][i])\n",
        "        flag = 0\n",
        "      else:\n",
        "        Sell.append(np.nan)\n",
        "    else:\n",
        "      Buy.append(np.nan)\n",
        "      Sell.append(np.nan)\n",
        "\n",
        "  return (Buy, Sell)\n",
        "       \n",
        "\n"
      ],
      "execution_count": 19,
      "outputs": []
    },
    {
      "cell_type": "code",
      "metadata": {
        "id": "qRR5-AseC0bE"
      },
      "source": [
        "a= buy_sell(df)\n",
        "df[\"Buy_Signal_Price\"] = a[0]\n",
        "df[\"Sell_Signal_Price\"] = a[1]"
      ],
      "execution_count": 20,
      "outputs": []
    },
    {
      "cell_type": "code",
      "metadata": {
        "colab": {
          "base_uri": "https://localhost:8080/",
          "height": 419
        },
        "id": "GCpWK2DEDP-t",
        "outputId": "349abcaf-6cd0-4a82-bb34-000e575b21c4"
      },
      "source": [
        "#show the data\n",
        "df"
      ],
      "execution_count": 21,
      "outputs": [
        {
          "output_type": "execute_result",
          "data": {
            "text/html": [
              "<div>\n",
              "<style scoped>\n",
              "    .dataframe tbody tr th:only-of-type {\n",
              "        vertical-align: middle;\n",
              "    }\n",
              "\n",
              "    .dataframe tbody tr th {\n",
              "        vertical-align: top;\n",
              "    }\n",
              "\n",
              "    .dataframe thead th {\n",
              "        text-align: right;\n",
              "    }\n",
              "</style>\n",
              "<table border=\"1\" class=\"dataframe\">\n",
              "  <thead>\n",
              "    <tr style=\"text-align: right;\">\n",
              "      <th></th>\n",
              "      <th>Date</th>\n",
              "      <th>Open</th>\n",
              "      <th>High</th>\n",
              "      <th>Low</th>\n",
              "      <th>Close</th>\n",
              "      <th>Adj Close</th>\n",
              "      <th>Volume</th>\n",
              "      <th>MACD</th>\n",
              "      <th>Signal Line</th>\n",
              "      <th>Buy_Signal_Price</th>\n",
              "      <th>Sell_Signal_Price</th>\n",
              "    </tr>\n",
              "  </thead>\n",
              "  <tbody>\n",
              "    <tr>\n",
              "      <th>2019-11-18</th>\n",
              "      <td>2019-11-18</td>\n",
              "      <td>49.290001</td>\n",
              "      <td>49.720001</td>\n",
              "      <td>48.950001</td>\n",
              "      <td>49.560001</td>\n",
              "      <td>49.560001</td>\n",
              "      <td>986147.0</td>\n",
              "      <td>0.000000</td>\n",
              "      <td>0.000000</td>\n",
              "      <td>NaN</td>\n",
              "      <td>NaN</td>\n",
              "    </tr>\n",
              "    <tr>\n",
              "      <th>2019-11-19</th>\n",
              "      <td>2019-11-19</td>\n",
              "      <td>49.560001</td>\n",
              "      <td>50.119999</td>\n",
              "      <td>49.299999</td>\n",
              "      <td>49.880001</td>\n",
              "      <td>49.880001</td>\n",
              "      <td>1059311.0</td>\n",
              "      <td>0.025527</td>\n",
              "      <td>0.005105</td>\n",
              "      <td>49.880001</td>\n",
              "      <td>NaN</td>\n",
              "    </tr>\n",
              "    <tr>\n",
              "      <th>2019-11-20</th>\n",
              "      <td>2019-11-20</td>\n",
              "      <td>49.700001</td>\n",
              "      <td>50.119999</td>\n",
              "      <td>49.360001</td>\n",
              "      <td>49.750000</td>\n",
              "      <td>49.750000</td>\n",
              "      <td>781474.0</td>\n",
              "      <td>0.034866</td>\n",
              "      <td>0.011057</td>\n",
              "      <td>NaN</td>\n",
              "      <td>NaN</td>\n",
              "    </tr>\n",
              "    <tr>\n",
              "      <th>2019-11-21</th>\n",
              "      <td>2019-11-21</td>\n",
              "      <td>49.750000</td>\n",
              "      <td>50.040001</td>\n",
              "      <td>49.439999</td>\n",
              "      <td>49.450001</td>\n",
              "      <td>49.450001</td>\n",
              "      <td>697568.0</td>\n",
              "      <td>0.017853</td>\n",
              "      <td>0.012417</td>\n",
              "      <td>NaN</td>\n",
              "      <td>NaN</td>\n",
              "    </tr>\n",
              "    <tr>\n",
              "      <th>2019-11-22</th>\n",
              "      <td>2019-11-22</td>\n",
              "      <td>49.459999</td>\n",
              "      <td>49.680000</td>\n",
              "      <td>48.959999</td>\n",
              "      <td>49.169998</td>\n",
              "      <td>49.169998</td>\n",
              "      <td>591529.0</td>\n",
              "      <td>-0.018016</td>\n",
              "      <td>0.006330</td>\n",
              "      <td>NaN</td>\n",
              "      <td>49.169998</td>\n",
              "    </tr>\n",
              "    <tr>\n",
              "      <th>...</th>\n",
              "      <td>...</td>\n",
              "      <td>...</td>\n",
              "      <td>...</td>\n",
              "      <td>...</td>\n",
              "      <td>...</td>\n",
              "      <td>...</td>\n",
              "      <td>...</td>\n",
              "      <td>...</td>\n",
              "      <td>...</td>\n",
              "      <td>...</td>\n",
              "      <td>...</td>\n",
              "    </tr>\n",
              "    <tr>\n",
              "      <th>2020-11-10</th>\n",
              "      <td>2020-11-10</td>\n",
              "      <td>19.590000</td>\n",
              "      <td>20.500000</td>\n",
              "      <td>18.870001</td>\n",
              "      <td>20.120001</td>\n",
              "      <td>20.120001</td>\n",
              "      <td>9867015.0</td>\n",
              "      <td>0.472441</td>\n",
              "      <td>-0.055607</td>\n",
              "      <td>NaN</td>\n",
              "      <td>NaN</td>\n",
              "    </tr>\n",
              "    <tr>\n",
              "      <th>2020-11-11</th>\n",
              "      <td>2020-11-11</td>\n",
              "      <td>19.980000</td>\n",
              "      <td>20.379999</td>\n",
              "      <td>19.110001</td>\n",
              "      <td>19.219999</td>\n",
              "      <td>19.219999</td>\n",
              "      <td>6208847.0</td>\n",
              "      <td>0.622419</td>\n",
              "      <td>0.079998</td>\n",
              "      <td>NaN</td>\n",
              "      <td>NaN</td>\n",
              "    </tr>\n",
              "    <tr>\n",
              "      <th>2020-11-12</th>\n",
              "      <td>2020-11-12</td>\n",
              "      <td>18.900000</td>\n",
              "      <td>19.129999</td>\n",
              "      <td>18.490000</td>\n",
              "      <td>18.570000</td>\n",
              "      <td>18.570000</td>\n",
              "      <td>5061099.0</td>\n",
              "      <td>0.680978</td>\n",
              "      <td>0.200194</td>\n",
              "      <td>NaN</td>\n",
              "      <td>NaN</td>\n",
              "    </tr>\n",
              "    <tr>\n",
              "      <th>2020-11-13</th>\n",
              "      <td>2020-11-13</td>\n",
              "      <td>18.570000</td>\n",
              "      <td>19.490000</td>\n",
              "      <td>18.570000</td>\n",
              "      <td>19.410000</td>\n",
              "      <td>19.410000</td>\n",
              "      <td>4379590.0</td>\n",
              "      <td>0.786106</td>\n",
              "      <td>0.317377</td>\n",
              "      <td>NaN</td>\n",
              "      <td>NaN</td>\n",
              "    </tr>\n",
              "    <tr>\n",
              "      <th>2020-11-16</th>\n",
              "      <td>2020-11-16</td>\n",
              "      <td>20.879999</td>\n",
              "      <td>20.930000</td>\n",
              "      <td>19.799999</td>\n",
              "      <td>20.110001</td>\n",
              "      <td>20.110001</td>\n",
              "      <td>4030696.0</td>\n",
              "      <td>0.915354</td>\n",
              "      <td>0.436972</td>\n",
              "      <td>NaN</td>\n",
              "      <td>NaN</td>\n",
              "    </tr>\n",
              "  </tbody>\n",
              "</table>\n",
              "<p>251 rows × 11 columns</p>\n",
              "</div>"
            ],
            "text/plain": [
              "                  Date       Open  ...  Buy_Signal_Price  Sell_Signal_Price\n",
              "2019-11-18  2019-11-18  49.290001  ...               NaN                NaN\n",
              "2019-11-19  2019-11-19  49.560001  ...         49.880001                NaN\n",
              "2019-11-20  2019-11-20  49.700001  ...               NaN                NaN\n",
              "2019-11-21  2019-11-21  49.750000  ...               NaN                NaN\n",
              "2019-11-22  2019-11-22  49.459999  ...               NaN          49.169998\n",
              "...                ...        ...  ...               ...                ...\n",
              "2020-11-10  2020-11-10  19.590000  ...               NaN                NaN\n",
              "2020-11-11  2020-11-11  19.980000  ...               NaN                NaN\n",
              "2020-11-12  2020-11-12  18.900000  ...               NaN                NaN\n",
              "2020-11-13  2020-11-13  18.570000  ...               NaN                NaN\n",
              "2020-11-16  2020-11-16  20.879999  ...               NaN                NaN\n",
              "\n",
              "[251 rows x 11 columns]"
            ]
          },
          "metadata": {
            "tags": []
          },
          "execution_count": 21
        }
      ]
    },
    {
      "cell_type": "code",
      "metadata": {
        "colab": {
          "base_uri": "https://localhost:8080/",
          "height": 354
        },
        "id": "Q5OSQw1_DSZM",
        "outputId": "fc134f45-c8d0-4765-9abb-2a40d78732d1"
      },
      "source": [
        "#Visualize\n",
        "plt.figure(figsize=(12.2, 4.5))\n",
        "plt.plot(df.index, df['Buy_Signal_Price'], color='green', label='Buy', marker='^', alpha=1)\n",
        "plt.plot(df.index, df['Sell_Signal_Price'], color='red', label='Sell', marker='v', alpha=1)\n",
        "plt.plot(df['Close'], label='Close Price', alpha= 0.35)\n",
        "plt.title('Close Price Buy and Sell Signals')\n",
        "plt.xlabel('Date')\n",
        "plt.ylabel('Close Price USD')\n",
        "plt.legend(loc='upper right')\n",
        "plt.show()"
      ],
      "execution_count": 25,
      "outputs": [
        {
          "output_type": "display_data",
          "data": {
            "image/png": "[encoded data removed]",
            "text/plain": [
              "<Figure size 878.4x324 with 1 Axes>"
            ]
          },
          "metadata": {
            "tags": []
          }
        }
      ]
    },
    {
      "cell_type": "code",
      "metadata": {
        "id": "4P3Ah0UWQHnY"
      },
      "source": [
        ""
      ],
      "execution_count": null,
      "outputs": []
    }
  ]
}